{
  "nbformat": 4,
  "nbformat_minor": 0,
  "metadata": {
    "colab": {
      "name": "AI_14_이영재_Section2.ipynb",
      "provenance": [],
      "collapsed_sections": []
    },
    "kernelspec": {
      "name": "python3",
      "display_name": "Python 3"
    },
    "language_info": {
      "name": "python"
    },
    "accelerator": "TPU",
    "gpuClass": "standard"
  },
  "cells": [
    {
      "cell_type": "code",
      "source": [
        "!pip install category_encoders\n",
        "!pip install pdpbox\n",
        "!pip install shap"
      ],
      "metadata": {
        "id": "2DZVSd_4xCtl",
        "colab": {
          "base_uri": "https://localhost:8080/"
        },
        "outputId": "46e0a7fd-34e9-47e9-d4bb-fd3e9c43b4ba"
      },
      "execution_count": 1,
      "outputs": [
        {
          "output_type": "stream",
          "name": "stdout",
          "text": [
            "Looking in indexes: https://pypi.org/simple, https://us-python.pkg.dev/colab-wheels/public/simple/\n",
            "Requirement already satisfied: category_encoders in /usr/local/lib/python3.7/dist-packages (2.5.0)\n",
            "Requirement already satisfied: patsy>=0.5.1 in /usr/local/lib/python3.7/dist-packages (from category_encoders) (0.5.2)\n",
            "Requirement already satisfied: scipy>=1.0.0 in /usr/local/lib/python3.7/dist-packages (from category_encoders) (1.7.3)\n",
            "Requirement already satisfied: statsmodels>=0.9.0 in /usr/local/lib/python3.7/dist-packages (from category_encoders) (0.10.2)\n",
            "Requirement already satisfied: scikit-learn>=0.20.0 in /usr/local/lib/python3.7/dist-packages (from category_encoders) (1.0.2)\n",
            "Requirement already satisfied: pandas>=1.0.5 in /usr/local/lib/python3.7/dist-packages (from category_encoders) (1.3.5)\n",
            "Requirement already satisfied: numpy>=1.14.0 in /usr/local/lib/python3.7/dist-packages (from category_encoders) (1.21.6)\n",
            "Requirement already satisfied: python-dateutil>=2.7.3 in /usr/local/lib/python3.7/dist-packages (from pandas>=1.0.5->category_encoders) (2.8.2)\n",
            "Requirement already satisfied: pytz>=2017.3 in /usr/local/lib/python3.7/dist-packages (from pandas>=1.0.5->category_encoders) (2022.1)\n",
            "Requirement already satisfied: six in /usr/local/lib/python3.7/dist-packages (from patsy>=0.5.1->category_encoders) (1.15.0)\n",
            "Requirement already satisfied: threadpoolctl>=2.0.0 in /usr/local/lib/python3.7/dist-packages (from scikit-learn>=0.20.0->category_encoders) (3.1.0)\n",
            "Requirement already satisfied: joblib>=0.11 in /usr/local/lib/python3.7/dist-packages (from scikit-learn>=0.20.0->category_encoders) (1.1.0)\n",
            "Looking in indexes: https://pypi.org/simple, https://us-python.pkg.dev/colab-wheels/public/simple/\n",
            "Requirement already satisfied: pdpbox in /usr/local/lib/python3.7/dist-packages (0.2.1)\n",
            "Requirement already satisfied: sklearn in /usr/local/lib/python3.7/dist-packages (from pdpbox) (0.0)\n",
            "Requirement already satisfied: numpy in /usr/local/lib/python3.7/dist-packages (from pdpbox) (1.21.6)\n",
            "Requirement already satisfied: pandas in /usr/local/lib/python3.7/dist-packages (from pdpbox) (1.3.5)\n",
            "Requirement already satisfied: scipy in /usr/local/lib/python3.7/dist-packages (from pdpbox) (1.7.3)\n",
            "Requirement already satisfied: matplotlib==3.1.1 in /usr/local/lib/python3.7/dist-packages (from pdpbox) (3.1.1)\n",
            "Requirement already satisfied: psutil in /usr/local/lib/python3.7/dist-packages (from pdpbox) (5.4.8)\n",
            "Requirement already satisfied: joblib in /usr/local/lib/python3.7/dist-packages (from pdpbox) (1.1.0)\n",
            "Requirement already satisfied: cycler>=0.10 in /usr/local/lib/python3.7/dist-packages (from matplotlib==3.1.1->pdpbox) (0.11.0)\n",
            "Requirement already satisfied: pyparsing!=2.0.4,!=2.1.2,!=2.1.6,>=2.0.1 in /usr/local/lib/python3.7/dist-packages (from matplotlib==3.1.1->pdpbox) (3.0.9)\n",
            "Requirement already satisfied: python-dateutil>=2.1 in /usr/local/lib/python3.7/dist-packages (from matplotlib==3.1.1->pdpbox) (2.8.2)\n",
            "Requirement already satisfied: kiwisolver>=1.0.1 in /usr/local/lib/python3.7/dist-packages (from matplotlib==3.1.1->pdpbox) (1.4.4)\n",
            "Requirement already satisfied: typing-extensions in /usr/local/lib/python3.7/dist-packages (from kiwisolver>=1.0.1->matplotlib==3.1.1->pdpbox) (4.1.1)\n",
            "Requirement already satisfied: six>=1.5 in /usr/local/lib/python3.7/dist-packages (from python-dateutil>=2.1->matplotlib==3.1.1->pdpbox) (1.15.0)\n",
            "Requirement already satisfied: pytz>=2017.3 in /usr/local/lib/python3.7/dist-packages (from pandas->pdpbox) (2022.1)\n",
            "Requirement already satisfied: scikit-learn in /usr/local/lib/python3.7/dist-packages (from sklearn->pdpbox) (1.0.2)\n",
            "Requirement already satisfied: threadpoolctl>=2.0.0 in /usr/local/lib/python3.7/dist-packages (from scikit-learn->sklearn->pdpbox) (3.1.0)\n",
            "Looking in indexes: https://pypi.org/simple, https://us-python.pkg.dev/colab-wheels/public/simple/\n",
            "Requirement already satisfied: shap in /usr/local/lib/python3.7/dist-packages (0.41.0)\n",
            "Requirement already satisfied: packaging>20.9 in /usr/local/lib/python3.7/dist-packages (from shap) (21.3)\n",
            "Requirement already satisfied: numpy in /usr/local/lib/python3.7/dist-packages (from shap) (1.21.6)\n",
            "Requirement already satisfied: numba in /usr/local/lib/python3.7/dist-packages (from shap) (0.51.2)\n",
            "Requirement already satisfied: cloudpickle in /usr/local/lib/python3.7/dist-packages (from shap) (1.3.0)\n",
            "Requirement already satisfied: scipy in /usr/local/lib/python3.7/dist-packages (from shap) (1.7.3)\n",
            "Requirement already satisfied: pandas in /usr/local/lib/python3.7/dist-packages (from shap) (1.3.5)\n",
            "Requirement already satisfied: tqdm>4.25.0 in /usr/local/lib/python3.7/dist-packages (from shap) (4.64.0)\n",
            "Requirement already satisfied: scikit-learn in /usr/local/lib/python3.7/dist-packages (from shap) (1.0.2)\n",
            "Requirement already satisfied: slicer==0.0.7 in /usr/local/lib/python3.7/dist-packages (from shap) (0.0.7)\n",
            "Requirement already satisfied: pyparsing!=3.0.5,>=2.0.2 in /usr/local/lib/python3.7/dist-packages (from packaging>20.9->shap) (3.0.9)\n",
            "Requirement already satisfied: llvmlite<0.35,>=0.34.0.dev0 in /usr/local/lib/python3.7/dist-packages (from numba->shap) (0.34.0)\n",
            "Requirement already satisfied: setuptools in /usr/local/lib/python3.7/dist-packages (from numba->shap) (57.4.0)\n",
            "Requirement already satisfied: python-dateutil>=2.7.3 in /usr/local/lib/python3.7/dist-packages (from pandas->shap) (2.8.2)\n",
            "Requirement already satisfied: pytz>=2017.3 in /usr/local/lib/python3.7/dist-packages (from pandas->shap) (2022.1)\n",
            "Requirement already satisfied: six>=1.5 in /usr/local/lib/python3.7/dist-packages (from python-dateutil>=2.7.3->pandas->shap) (1.15.0)\n",
            "Requirement already satisfied: joblib>=0.11 in /usr/local/lib/python3.7/dist-packages (from scikit-learn->shap) (1.1.0)\n",
            "Requirement already satisfied: threadpoolctl>=2.0.0 in /usr/local/lib/python3.7/dist-packages (from scikit-learn->shap) (3.1.0)\n"
          ]
        }
      ]
    },
    {
      "cell_type": "code",
      "source": [
        "import pandas as pd \n",
        "import numpy as np \n",
        "import seaborn as sns\n",
        "import matplotlib.pyplot as plt\n",
        "from sklearn.model_selection import train_test_split\n",
        "from category_encoders import OneHotEncoder\n",
        "from category_encoders import TargetEncoder\n",
        "from category_encoders import OrdinalEncoder\n",
        "from sklearn.ensemble import RandomForestRegressor\n",
        "from sklearn.tree import DecisionTreeClassifier\n",
        "from sklearn.ensemble import RandomForestClassifier\n",
        "from sklearn.impute import SimpleImputer \n",
        "from sklearn.pipeline import make_pipeline\n",
        "from sklearn.metrics import classification_report\n",
        "from sklearn.linear_model import LinearRegression\n",
        "from sklearn.model_selection import RandomizedSearchCV\n",
        "from sklearn.metrics import  mean_squared_error, mean_absolute_error, r2_score\n",
        "from pdpbox.pdp import pdp_isolate, pdp_plot\n",
        "\n",
        "import warnings\n",
        "warnings.filterwarnings(\"ignore\")"
      ],
      "metadata": {
        "id": "qpdI87PYwDt1",
        "colab": {
          "base_uri": "https://localhost:8080/"
        },
        "outputId": "33e8960d-8271-40eb-ddb8-7d32aa85f8dd"
      },
      "execution_count": 2,
      "outputs": [
        {
          "output_type": "stream",
          "name": "stderr",
          "text": [
            "/usr/local/lib/python3.7/dist-packages/statsmodels/tools/_testing.py:19: FutureWarning: pandas.util.testing is deprecated. Use the functions in the public API at pandas.testing instead.\n",
            "  import pandas.util.testing as tm\n"
          ]
        }
      ]
    },
    {
      "cell_type": "code",
      "execution_count": 3,
      "metadata": {
        "id": "9aFSJ_KHhg0Z"
      },
      "outputs": [],
      "source": [
        "###DataFrame 불러오기###\n",
        "df_origin = pd.read_csv('/content/drive/MyDrive/Data/wowah_data.csv')\n",
        "#df_sample = df_origin.sample(frac=0.01, random_state=85567)"
      ]
    },
    {
      "cell_type": "code",
      "source": [
        "###DataFrame EDA###\n",
        "def data_eda(df):\n",
        "  df.columns = ['Char', 'Level', 'Race', 'Charclass', 'Zone', 'Guild', 'Timestamp']\n",
        "  df = df.drop_duplicates()\n",
        "  df['Guild'] = df['Guild'].apply(lambda x: 0 if x==-1 else 1)\n",
        "  df.reset_index(drop=True, inplace=True)\n",
        "  return df\n",
        "###Column 이름 변경, 중복 제외, 'Guild' 가입 유무로 변경('-1'은 미가입)\n",
        "###index reset"
      ],
      "metadata": {
        "id": "DYx_fjIXos1Y"
      },
      "execution_count": 4,
      "outputs": []
    },
    {
      "cell_type": "code",
      "source": [
        "df_data_eda = data_eda(df_origin)"
      ],
      "metadata": {
        "id": "7X6n2v0DotGp"
      },
      "execution_count": 5,
      "outputs": []
    },
    {
      "cell_type": "code",
      "source": [
        "df_data_eda.duplicated().sum()"
      ],
      "metadata": {
        "colab": {
          "base_uri": "https://localhost:8080/"
        },
        "id": "0mE_rsawxrMw",
        "outputId": "03737255-d762-4771-edb8-1d64d60c7e45"
      },
      "execution_count": 6,
      "outputs": [
        {
          "output_type": "execute_result",
          "data": {
            "text/plain": [
              "0"
            ]
          },
          "metadata": {},
          "execution_count": 6
        }
      ]
    },
    {
      "cell_type": "code",
      "source": [
        "df_data_eda"
      ],
      "metadata": {
        "id": "OxRDAKZU3Nx0",
        "colab": {
          "base_uri": "https://localhost:8080/",
          "height": 424
        },
        "outputId": "1a6ad861-5f23-4c7e-eb6e-d54c086f0937"
      },
      "execution_count": 7,
      "outputs": [
        {
          "output_type": "execute_result",
          "data": {
            "text/plain": [
              "           Char  Level       Race     Charclass                Zone  Guild  \\\n",
              "0         59425      1        Orc         Rogue           Orgrimmar      1   \n",
              "1         65494      9        Orc        Hunter             Durotar      0   \n",
              "2         65325     14        Orc       Warrior          Ghostlands      0   \n",
              "3         65490     18        Orc        Hunter          Ghostlands      0   \n",
              "4          2288     60        Orc        Hunter  Hellfire Peninsula      0   \n",
              "...         ...    ...        ...           ...                 ...    ...   \n",
              "10823172  86766     80  Blood Elf  Death Knight  Halls of Lightning      1   \n",
              "10823173  86497     77  Blood Elf  Death Knight     The Storm Peaks      1   \n",
              "10823174  34893     80  Blood Elf  Death Knight     The Storm Peaks      1   \n",
              "10823175  86881     80  Blood Elf  Death Knight        Dragonblight      1   \n",
              "10823176  86457     80  Blood Elf  Death Knight        Dragonblight      1   \n",
              "\n",
              "                  Timestamp  \n",
              "0         01/01/08 00:02:04  \n",
              "1         01/01/08 00:02:04  \n",
              "2         01/01/08 00:02:04  \n",
              "3         01/01/08 00:02:04  \n",
              "4         01/01/08 00:02:09  \n",
              "...                     ...  \n",
              "10823172  12/31/08 23:50:18  \n",
              "10823173  12/31/08 23:50:18  \n",
              "10823174  12/31/08 23:50:18  \n",
              "10823175  12/31/08 23:50:18  \n",
              "10823176  12/31/08 23:50:18  \n",
              "\n",
              "[10823177 rows x 7 columns]"
            ],
            "text/html": [
              "\n",
              "  <div id=\"df-106eb967-667a-4ba9-b5a3-73689e0d552d\">\n",
              "    <div class=\"colab-df-container\">\n",
              "      <div>\n",
              "<style scoped>\n",
              "    .dataframe tbody tr th:only-of-type {\n",
              "        vertical-align: middle;\n",
              "    }\n",
              "\n",
              "    .dataframe tbody tr th {\n",
              "        vertical-align: top;\n",
              "    }\n",
              "\n",
              "    .dataframe thead th {\n",
              "        text-align: right;\n",
              "    }\n",
              "</style>\n",
              "<table border=\"1\" class=\"dataframe\">\n",
              "  <thead>\n",
              "    <tr style=\"text-align: right;\">\n",
              "      <th></th>\n",
              "      <th>Char</th>\n",
              "      <th>Level</th>\n",
              "      <th>Race</th>\n",
              "      <th>Charclass</th>\n",
              "      <th>Zone</th>\n",
              "      <th>Guild</th>\n",
              "      <th>Timestamp</th>\n",
              "    </tr>\n",
              "  </thead>\n",
              "  <tbody>\n",
              "    <tr>\n",
              "      <th>0</th>\n",
              "      <td>59425</td>\n",
              "      <td>1</td>\n",
              "      <td>Orc</td>\n",
              "      <td>Rogue</td>\n",
              "      <td>Orgrimmar</td>\n",
              "      <td>1</td>\n",
              "      <td>01/01/08 00:02:04</td>\n",
              "    </tr>\n",
              "    <tr>\n",
              "      <th>1</th>\n",
              "      <td>65494</td>\n",
              "      <td>9</td>\n",
              "      <td>Orc</td>\n",
              "      <td>Hunter</td>\n",
              "      <td>Durotar</td>\n",
              "      <td>0</td>\n",
              "      <td>01/01/08 00:02:04</td>\n",
              "    </tr>\n",
              "    <tr>\n",
              "      <th>2</th>\n",
              "      <td>65325</td>\n",
              "      <td>14</td>\n",
              "      <td>Orc</td>\n",
              "      <td>Warrior</td>\n",
              "      <td>Ghostlands</td>\n",
              "      <td>0</td>\n",
              "      <td>01/01/08 00:02:04</td>\n",
              "    </tr>\n",
              "    <tr>\n",
              "      <th>3</th>\n",
              "      <td>65490</td>\n",
              "      <td>18</td>\n",
              "      <td>Orc</td>\n",
              "      <td>Hunter</td>\n",
              "      <td>Ghostlands</td>\n",
              "      <td>0</td>\n",
              "      <td>01/01/08 00:02:04</td>\n",
              "    </tr>\n",
              "    <tr>\n",
              "      <th>4</th>\n",
              "      <td>2288</td>\n",
              "      <td>60</td>\n",
              "      <td>Orc</td>\n",
              "      <td>Hunter</td>\n",
              "      <td>Hellfire Peninsula</td>\n",
              "      <td>0</td>\n",
              "      <td>01/01/08 00:02:09</td>\n",
              "    </tr>\n",
              "    <tr>\n",
              "      <th>...</th>\n",
              "      <td>...</td>\n",
              "      <td>...</td>\n",
              "      <td>...</td>\n",
              "      <td>...</td>\n",
              "      <td>...</td>\n",
              "      <td>...</td>\n",
              "      <td>...</td>\n",
              "    </tr>\n",
              "    <tr>\n",
              "      <th>10823172</th>\n",
              "      <td>86766</td>\n",
              "      <td>80</td>\n",
              "      <td>Blood Elf</td>\n",
              "      <td>Death Knight</td>\n",
              "      <td>Halls of Lightning</td>\n",
              "      <td>1</td>\n",
              "      <td>12/31/08 23:50:18</td>\n",
              "    </tr>\n",
              "    <tr>\n",
              "      <th>10823173</th>\n",
              "      <td>86497</td>\n",
              "      <td>77</td>\n",
              "      <td>Blood Elf</td>\n",
              "      <td>Death Knight</td>\n",
              "      <td>The Storm Peaks</td>\n",
              "      <td>1</td>\n",
              "      <td>12/31/08 23:50:18</td>\n",
              "    </tr>\n",
              "    <tr>\n",
              "      <th>10823174</th>\n",
              "      <td>34893</td>\n",
              "      <td>80</td>\n",
              "      <td>Blood Elf</td>\n",
              "      <td>Death Knight</td>\n",
              "      <td>The Storm Peaks</td>\n",
              "      <td>1</td>\n",
              "      <td>12/31/08 23:50:18</td>\n",
              "    </tr>\n",
              "    <tr>\n",
              "      <th>10823175</th>\n",
              "      <td>86881</td>\n",
              "      <td>80</td>\n",
              "      <td>Blood Elf</td>\n",
              "      <td>Death Knight</td>\n",
              "      <td>Dragonblight</td>\n",
              "      <td>1</td>\n",
              "      <td>12/31/08 23:50:18</td>\n",
              "    </tr>\n",
              "    <tr>\n",
              "      <th>10823176</th>\n",
              "      <td>86457</td>\n",
              "      <td>80</td>\n",
              "      <td>Blood Elf</td>\n",
              "      <td>Death Knight</td>\n",
              "      <td>Dragonblight</td>\n",
              "      <td>1</td>\n",
              "      <td>12/31/08 23:50:18</td>\n",
              "    </tr>\n",
              "  </tbody>\n",
              "</table>\n",
              "<p>10823177 rows × 7 columns</p>\n",
              "</div>\n",
              "      <button class=\"colab-df-convert\" onclick=\"convertToInteractive('df-106eb967-667a-4ba9-b5a3-73689e0d552d')\"\n",
              "              title=\"Convert this dataframe to an interactive table.\"\n",
              "              style=\"display:none;\">\n",
              "        \n",
              "  <svg xmlns=\"http://www.w3.org/2000/svg\" height=\"24px\"viewBox=\"0 0 24 24\"\n",
              "       width=\"24px\">\n",
              "    <path d=\"M0 0h24v24H0V0z\" fill=\"none\"/>\n",
              "    <path d=\"M18.56 5.44l.94 2.06.94-2.06 2.06-.94-2.06-.94-.94-2.06-.94 2.06-2.06.94zm-11 1L8.5 8.5l.94-2.06 2.06-.94-2.06-.94L8.5 2.5l-.94 2.06-2.06.94zm10 10l.94 2.06.94-2.06 2.06-.94-2.06-.94-.94-2.06-.94 2.06-2.06.94z\"/><path d=\"M17.41 7.96l-1.37-1.37c-.4-.4-.92-.59-1.43-.59-.52 0-1.04.2-1.43.59L10.3 9.45l-7.72 7.72c-.78.78-.78 2.05 0 2.83L4 21.41c.39.39.9.59 1.41.59.51 0 1.02-.2 1.41-.59l7.78-7.78 2.81-2.81c.8-.78.8-2.07 0-2.86zM5.41 20L4 18.59l7.72-7.72 1.47 1.35L5.41 20z\"/>\n",
              "  </svg>\n",
              "      </button>\n",
              "      \n",
              "  <style>\n",
              "    .colab-df-container {\n",
              "      display:flex;\n",
              "      flex-wrap:wrap;\n",
              "      gap: 12px;\n",
              "    }\n",
              "\n",
              "    .colab-df-convert {\n",
              "      background-color: #E8F0FE;\n",
              "      border: none;\n",
              "      border-radius: 50%;\n",
              "      cursor: pointer;\n",
              "      display: none;\n",
              "      fill: #1967D2;\n",
              "      height: 32px;\n",
              "      padding: 0 0 0 0;\n",
              "      width: 32px;\n",
              "    }\n",
              "\n",
              "    .colab-df-convert:hover {\n",
              "      background-color: #E2EBFA;\n",
              "      box-shadow: 0px 1px 2px rgba(60, 64, 67, 0.3), 0px 1px 3px 1px rgba(60, 64, 67, 0.15);\n",
              "      fill: #174EA6;\n",
              "    }\n",
              "\n",
              "    [theme=dark] .colab-df-convert {\n",
              "      background-color: #3B4455;\n",
              "      fill: #D2E3FC;\n",
              "    }\n",
              "\n",
              "    [theme=dark] .colab-df-convert:hover {\n",
              "      background-color: #434B5C;\n",
              "      box-shadow: 0px 1px 3px 1px rgba(0, 0, 0, 0.15);\n",
              "      filter: drop-shadow(0px 1px 2px rgba(0, 0, 0, 0.3));\n",
              "      fill: #FFFFFF;\n",
              "    }\n",
              "  </style>\n",
              "\n",
              "      <script>\n",
              "        const buttonEl =\n",
              "          document.querySelector('#df-106eb967-667a-4ba9-b5a3-73689e0d552d button.colab-df-convert');\n",
              "        buttonEl.style.display =\n",
              "          google.colab.kernel.accessAllowed ? 'block' : 'none';\n",
              "\n",
              "        async function convertToInteractive(key) {\n",
              "          const element = document.querySelector('#df-106eb967-667a-4ba9-b5a3-73689e0d552d');\n",
              "          const dataTable =\n",
              "            await google.colab.kernel.invokeFunction('convertToInteractive',\n",
              "                                                     [key], {});\n",
              "          if (!dataTable) return;\n",
              "\n",
              "          const docLinkHtml = 'Like what you see? Visit the ' +\n",
              "            '<a target=\"_blank\" href=https://colab.research.google.com/notebooks/data_table.ipynb>data table notebook</a>'\n",
              "            + ' to learn more about interactive tables.';\n",
              "          element.innerHTML = '';\n",
              "          dataTable['output_type'] = 'display_data';\n",
              "          await google.colab.output.renderOutput(dataTable, element);\n",
              "          const docLink = document.createElement('div');\n",
              "          docLink.innerHTML = docLinkHtml;\n",
              "          element.appendChild(docLink);\n",
              "        }\n",
              "      </script>\n",
              "    </div>\n",
              "  </div>\n",
              "  "
            ]
          },
          "metadata": {},
          "execution_count": 7
        }
      ]
    },
    {
      "cell_type": "code",
      "source": [
        "###Timestamp Column 나누기###\n",
        "def timestamp(df):\n",
        "  df = df.astype({'Timestamp':'datetime64'})\n",
        "  df['Month'] = df['Timestamp'].dt.month\n",
        "  df['Day'] = df['Timestamp'].dt.day\n",
        "  df['Hour'] = df['Timestamp'].dt.hour\n",
        "  df.drop('Timestamp', axis=1, inplace=True)\n",
        "  df.sort_values('Month', inplace=True)\n",
        "  return df\n",
        "###Timestamp DataType datetime64로 변경\n",
        "###월, 일, 시간 Column 만들기\n",
        "###Timestamp 삭제\n",
        "###'Month'기준으로 정렬"
      ],
      "metadata": {
        "id": "4n5fc8PcotMo"
      },
      "execution_count": 8,
      "outputs": []
    },
    {
      "cell_type": "code",
      "source": [
        "df_timestamp = timestamp(df_data_eda)"
      ],
      "metadata": {
        "id": "rgjQZAsGq0VV"
      },
      "execution_count": 9,
      "outputs": []
    },
    {
      "cell_type": "code",
      "source": [
        "df_timestamp['Char'].value_counts().describe()"
      ],
      "metadata": {
        "colab": {
          "base_uri": "https://localhost:8080/"
        },
        "id": "YaOCbkCX3axQ",
        "outputId": "6689ea88-8652-4db7-f904-95ce71c62188"
      },
      "execution_count": 10,
      "outputs": [
        {
          "output_type": "execute_result",
          "data": {
            "text/plain": [
              "count    37354.000000\n",
              "mean       289.746132\n",
              "std        956.669110\n",
              "min          1.000000\n",
              "25%          2.000000\n",
              "50%          6.000000\n",
              "75%         59.000000\n",
              "max      42770.000000\n",
              "Name: Char, dtype: float64"
            ]
          },
          "metadata": {},
          "execution_count": 10
        }
      ]
    },
    {
      "cell_type": "code",
      "source": [
        "def charcounts(df):#956.669110, 16.133414\n",
        "  df_charcount = pd.DataFrame(df['Char'].value_counts())\n",
        "  df_charcount.reset_index(inplace=True)\n",
        "  df_charcount.rename(columns={'index' : 'Char', 'Char' : 'Charcount'}, inplace=True)\n",
        "  df_merge = pd.merge(df, df_charcount)\n",
        "  df_merge['Subscribe'] = df_merge['Charcount'] > 956.669110\n",
        "  return df_merge"
      ],
      "metadata": {
        "id": "w1eZWTAIF8mQ"
      },
      "execution_count": 11,
      "outputs": []
    },
    {
      "cell_type": "code",
      "source": [
        "df_charcounts = charcounts(df_timestamp)"
      ],
      "metadata": {
        "id": "UZSWH_BmGFvm"
      },
      "execution_count": 12,
      "outputs": []
    },
    {
      "cell_type": "code",
      "source": [
        "df_charcounts"
      ],
      "metadata": {
        "colab": {
          "base_uri": "https://localhost:8080/",
          "height": 468
        },
        "id": "dNa4cye_Y6I3",
        "outputId": "e2f44a01-516d-4e08-95cd-6e4d1d578f3b"
      },
      "execution_count": 13,
      "outputs": [
        {
          "output_type": "execute_result",
          "data": {
            "text/plain": [
              "           Char  Level       Race Charclass            Zone  Guild  Month  \\\n",
              "0         59425      1        Orc     Rogue       Orgrimmar      1      1   \n",
              "1         59425      1        Orc     Rogue       Orgrimmar      1      1   \n",
              "2         59425      1        Orc     Rogue       Orgrimmar      1      1   \n",
              "3         59425      1        Orc     Rogue       Orgrimmar      1      1   \n",
              "4         59425      1        Orc     Rogue       Orgrimmar      1      1   \n",
              "...         ...    ...        ...       ...             ...    ...    ...   \n",
              "10823172  38722     62  Blood Elf    Hunter     Zangarmarsh      0     12   \n",
              "10823173  38722     62  Blood Elf    Hunter     Zangarmarsh      0     12   \n",
              "10823174  89439      1  Blood Elf   Paladin  Eversong Woods      0     12   \n",
              "10823175  89442      1  Blood Elf     Rogue  Eversong Woods      0     12   \n",
              "10823176  89441      1        Orc   Warrior         Durotar      0     12   \n",
              "\n",
              "          Day  Hour  Charcount  Subscribe  \n",
              "0           1     0         52      False  \n",
              "1          18     2         52      False  \n",
              "2          29     1         52      False  \n",
              "3           5    21         52      False  \n",
              "4           2     1         52      False  \n",
              "...       ...   ...        ...        ...  \n",
              "10823172   11    22          2      False  \n",
              "10823173   11    22          2      False  \n",
              "10823174   11    22          1      False  \n",
              "10823175   11    22          1      False  \n",
              "10823176   11    22          1      False  \n",
              "\n",
              "[10823177 rows x 11 columns]"
            ],
            "text/html": [
              "\n",
              "  <div id=\"df-3db03cd6-ef18-4ad2-8925-7a4f5969a600\">\n",
              "    <div class=\"colab-df-container\">\n",
              "      <div>\n",
              "<style scoped>\n",
              "    .dataframe tbody tr th:only-of-type {\n",
              "        vertical-align: middle;\n",
              "    }\n",
              "\n",
              "    .dataframe tbody tr th {\n",
              "        vertical-align: top;\n",
              "    }\n",
              "\n",
              "    .dataframe thead th {\n",
              "        text-align: right;\n",
              "    }\n",
              "</style>\n",
              "<table border=\"1\" class=\"dataframe\">\n",
              "  <thead>\n",
              "    <tr style=\"text-align: right;\">\n",
              "      <th></th>\n",
              "      <th>Char</th>\n",
              "      <th>Level</th>\n",
              "      <th>Race</th>\n",
              "      <th>Charclass</th>\n",
              "      <th>Zone</th>\n",
              "      <th>Guild</th>\n",
              "      <th>Month</th>\n",
              "      <th>Day</th>\n",
              "      <th>Hour</th>\n",
              "      <th>Charcount</th>\n",
              "      <th>Subscribe</th>\n",
              "    </tr>\n",
              "  </thead>\n",
              "  <tbody>\n",
              "    <tr>\n",
              "      <th>0</th>\n",
              "      <td>59425</td>\n",
              "      <td>1</td>\n",
              "      <td>Orc</td>\n",
              "      <td>Rogue</td>\n",
              "      <td>Orgrimmar</td>\n",
              "      <td>1</td>\n",
              "      <td>1</td>\n",
              "      <td>1</td>\n",
              "      <td>0</td>\n",
              "      <td>52</td>\n",
              "      <td>False</td>\n",
              "    </tr>\n",
              "    <tr>\n",
              "      <th>1</th>\n",
              "      <td>59425</td>\n",
              "      <td>1</td>\n",
              "      <td>Orc</td>\n",
              "      <td>Rogue</td>\n",
              "      <td>Orgrimmar</td>\n",
              "      <td>1</td>\n",
              "      <td>1</td>\n",
              "      <td>18</td>\n",
              "      <td>2</td>\n",
              "      <td>52</td>\n",
              "      <td>False</td>\n",
              "    </tr>\n",
              "    <tr>\n",
              "      <th>2</th>\n",
              "      <td>59425</td>\n",
              "      <td>1</td>\n",
              "      <td>Orc</td>\n",
              "      <td>Rogue</td>\n",
              "      <td>Orgrimmar</td>\n",
              "      <td>1</td>\n",
              "      <td>1</td>\n",
              "      <td>29</td>\n",
              "      <td>1</td>\n",
              "      <td>52</td>\n",
              "      <td>False</td>\n",
              "    </tr>\n",
              "    <tr>\n",
              "      <th>3</th>\n",
              "      <td>59425</td>\n",
              "      <td>1</td>\n",
              "      <td>Orc</td>\n",
              "      <td>Rogue</td>\n",
              "      <td>Orgrimmar</td>\n",
              "      <td>1</td>\n",
              "      <td>1</td>\n",
              "      <td>5</td>\n",
              "      <td>21</td>\n",
              "      <td>52</td>\n",
              "      <td>False</td>\n",
              "    </tr>\n",
              "    <tr>\n",
              "      <th>4</th>\n",
              "      <td>59425</td>\n",
              "      <td>1</td>\n",
              "      <td>Orc</td>\n",
              "      <td>Rogue</td>\n",
              "      <td>Orgrimmar</td>\n",
              "      <td>1</td>\n",
              "      <td>1</td>\n",
              "      <td>2</td>\n",
              "      <td>1</td>\n",
              "      <td>52</td>\n",
              "      <td>False</td>\n",
              "    </tr>\n",
              "    <tr>\n",
              "      <th>...</th>\n",
              "      <td>...</td>\n",
              "      <td>...</td>\n",
              "      <td>...</td>\n",
              "      <td>...</td>\n",
              "      <td>...</td>\n",
              "      <td>...</td>\n",
              "      <td>...</td>\n",
              "      <td>...</td>\n",
              "      <td>...</td>\n",
              "      <td>...</td>\n",
              "      <td>...</td>\n",
              "    </tr>\n",
              "    <tr>\n",
              "      <th>10823172</th>\n",
              "      <td>38722</td>\n",
              "      <td>62</td>\n",
              "      <td>Blood Elf</td>\n",
              "      <td>Hunter</td>\n",
              "      <td>Zangarmarsh</td>\n",
              "      <td>0</td>\n",
              "      <td>12</td>\n",
              "      <td>11</td>\n",
              "      <td>22</td>\n",
              "      <td>2</td>\n",
              "      <td>False</td>\n",
              "    </tr>\n",
              "    <tr>\n",
              "      <th>10823173</th>\n",
              "      <td>38722</td>\n",
              "      <td>62</td>\n",
              "      <td>Blood Elf</td>\n",
              "      <td>Hunter</td>\n",
              "      <td>Zangarmarsh</td>\n",
              "      <td>0</td>\n",
              "      <td>12</td>\n",
              "      <td>11</td>\n",
              "      <td>22</td>\n",
              "      <td>2</td>\n",
              "      <td>False</td>\n",
              "    </tr>\n",
              "    <tr>\n",
              "      <th>10823174</th>\n",
              "      <td>89439</td>\n",
              "      <td>1</td>\n",
              "      <td>Blood Elf</td>\n",
              "      <td>Paladin</td>\n",
              "      <td>Eversong Woods</td>\n",
              "      <td>0</td>\n",
              "      <td>12</td>\n",
              "      <td>11</td>\n",
              "      <td>22</td>\n",
              "      <td>1</td>\n",
              "      <td>False</td>\n",
              "    </tr>\n",
              "    <tr>\n",
              "      <th>10823175</th>\n",
              "      <td>89442</td>\n",
              "      <td>1</td>\n",
              "      <td>Blood Elf</td>\n",
              "      <td>Rogue</td>\n",
              "      <td>Eversong Woods</td>\n",
              "      <td>0</td>\n",
              "      <td>12</td>\n",
              "      <td>11</td>\n",
              "      <td>22</td>\n",
              "      <td>1</td>\n",
              "      <td>False</td>\n",
              "    </tr>\n",
              "    <tr>\n",
              "      <th>10823176</th>\n",
              "      <td>89441</td>\n",
              "      <td>1</td>\n",
              "      <td>Orc</td>\n",
              "      <td>Warrior</td>\n",
              "      <td>Durotar</td>\n",
              "      <td>0</td>\n",
              "      <td>12</td>\n",
              "      <td>11</td>\n",
              "      <td>22</td>\n",
              "      <td>1</td>\n",
              "      <td>False</td>\n",
              "    </tr>\n",
              "  </tbody>\n",
              "</table>\n",
              "<p>10823177 rows × 11 columns</p>\n",
              "</div>\n",
              "      <button class=\"colab-df-convert\" onclick=\"convertToInteractive('df-3db03cd6-ef18-4ad2-8925-7a4f5969a600')\"\n",
              "              title=\"Convert this dataframe to an interactive table.\"\n",
              "              style=\"display:none;\">\n",
              "        \n",
              "  <svg xmlns=\"http://www.w3.org/2000/svg\" height=\"24px\"viewBox=\"0 0 24 24\"\n",
              "       width=\"24px\">\n",
              "    <path d=\"M0 0h24v24H0V0z\" fill=\"none\"/>\n",
              "    <path d=\"M18.56 5.44l.94 2.06.94-2.06 2.06-.94-2.06-.94-.94-2.06-.94 2.06-2.06.94zm-11 1L8.5 8.5l.94-2.06 2.06-.94-2.06-.94L8.5 2.5l-.94 2.06-2.06.94zm10 10l.94 2.06.94-2.06 2.06-.94-2.06-.94-.94-2.06-.94 2.06-2.06.94z\"/><path d=\"M17.41 7.96l-1.37-1.37c-.4-.4-.92-.59-1.43-.59-.52 0-1.04.2-1.43.59L10.3 9.45l-7.72 7.72c-.78.78-.78 2.05 0 2.83L4 21.41c.39.39.9.59 1.41.59.51 0 1.02-.2 1.41-.59l7.78-7.78 2.81-2.81c.8-.78.8-2.07 0-2.86zM5.41 20L4 18.59l7.72-7.72 1.47 1.35L5.41 20z\"/>\n",
              "  </svg>\n",
              "      </button>\n",
              "      \n",
              "  <style>\n",
              "    .colab-df-container {\n",
              "      display:flex;\n",
              "      flex-wrap:wrap;\n",
              "      gap: 12px;\n",
              "    }\n",
              "\n",
              "    .colab-df-convert {\n",
              "      background-color: #E8F0FE;\n",
              "      border: none;\n",
              "      border-radius: 50%;\n",
              "      cursor: pointer;\n",
              "      display: none;\n",
              "      fill: #1967D2;\n",
              "      height: 32px;\n",
              "      padding: 0 0 0 0;\n",
              "      width: 32px;\n",
              "    }\n",
              "\n",
              "    .colab-df-convert:hover {\n",
              "      background-color: #E2EBFA;\n",
              "      box-shadow: 0px 1px 2px rgba(60, 64, 67, 0.3), 0px 1px 3px 1px rgba(60, 64, 67, 0.15);\n",
              "      fill: #174EA6;\n",
              "    }\n",
              "\n",
              "    [theme=dark] .colab-df-convert {\n",
              "      background-color: #3B4455;\n",
              "      fill: #D2E3FC;\n",
              "    }\n",
              "\n",
              "    [theme=dark] .colab-df-convert:hover {\n",
              "      background-color: #434B5C;\n",
              "      box-shadow: 0px 1px 3px 1px rgba(0, 0, 0, 0.15);\n",
              "      filter: drop-shadow(0px 1px 2px rgba(0, 0, 0, 0.3));\n",
              "      fill: #FFFFFF;\n",
              "    }\n",
              "  </style>\n",
              "\n",
              "      <script>\n",
              "        const buttonEl =\n",
              "          document.querySelector('#df-3db03cd6-ef18-4ad2-8925-7a4f5969a600 button.colab-df-convert');\n",
              "        buttonEl.style.display =\n",
              "          google.colab.kernel.accessAllowed ? 'block' : 'none';\n",
              "\n",
              "        async function convertToInteractive(key) {\n",
              "          const element = document.querySelector('#df-3db03cd6-ef18-4ad2-8925-7a4f5969a600');\n",
              "          const dataTable =\n",
              "            await google.colab.kernel.invokeFunction('convertToInteractive',\n",
              "                                                     [key], {});\n",
              "          if (!dataTable) return;\n",
              "\n",
              "          const docLinkHtml = 'Like what you see? Visit the ' +\n",
              "            '<a target=\"_blank\" href=https://colab.research.google.com/notebooks/data_table.ipynb>data table notebook</a>'\n",
              "            + ' to learn more about interactive tables.';\n",
              "          element.innerHTML = '';\n",
              "          dataTable['output_type'] = 'display_data';\n",
              "          await google.colab.output.renderOutput(dataTable, element);\n",
              "          const docLink = document.createElement('div');\n",
              "          docLink.innerHTML = docLinkHtml;\n",
              "          element.appendChild(docLink);\n",
              "        }\n",
              "      </script>\n",
              "    </div>\n",
              "  </div>\n",
              "  "
            ]
          },
          "metadata": {},
          "execution_count": 13
        }
      ]
    },
    {
      "cell_type": "code",
      "source": [
        "#sns.barplot(data=df_charcounts,x='Subscribe', y=);\n",
        "df_charcounts['Char'].mode()"
      ],
      "metadata": {
        "colab": {
          "base_uri": "https://localhost:8080/"
        },
        "id": "MrbO5Yp4uYzf",
        "outputId": "73a2696a-f9f7-4252-fa99-9487ace4fadd"
      },
      "execution_count": 14,
      "outputs": [
        {
          "output_type": "execute_result",
          "data": {
            "text/plain": [
              "0    182\n",
              "dtype: int64"
            ]
          },
          "metadata": {},
          "execution_count": 14
        }
      ]
    },
    {
      "cell_type": "code",
      "source": [
        "df_charcounts['Char'].value_counts()[:5]"
      ],
      "metadata": {
        "colab": {
          "base_uri": "https://localhost:8080/"
        },
        "id": "ZXrB9PUowN_d",
        "outputId": "14641a32-bf6c-4958-b6e6-8cb5cd275b69"
      },
      "execution_count": 15,
      "outputs": [
        {
          "output_type": "execute_result",
          "data": {
            "text/plain": [
              "182      42770\n",
              "57741    16237\n",
              "1384     15878\n",
              "59489    13977\n",
              "62239    13776\n",
              "Name: Char, dtype: int64"
            ]
          },
          "metadata": {},
          "execution_count": 15
        }
      ]
    },
    {
      "cell_type": "code",
      "source": [
        "###기준모델 True 0.81014\n",
        "df_charcounts['Subscribe'].value_counts(normalize=True)"
      ],
      "metadata": {
        "id": "Vx2IIjrp_4do",
        "colab": {
          "base_uri": "https://localhost:8080/"
        },
        "outputId": "6dc99e8e-f4d4-4220-df3c-d28e050ee2ef"
      },
      "execution_count": 16,
      "outputs": [
        {
          "output_type": "execute_result",
          "data": {
            "text/plain": [
              "True     0.81014\n",
              "False    0.18986\n",
              "Name: Subscribe, dtype: float64"
            ]
          },
          "metadata": {},
          "execution_count": 16
        }
      ]
    },
    {
      "cell_type": "code",
      "source": [
        "train, test = train_test_split(df_charcounts, test_size=0.2, random_state=2)"
      ],
      "metadata": {
        "id": "5WUDk1q1UxmU"
      },
      "execution_count": 17,
      "outputs": []
    },
    {
      "cell_type": "code",
      "source": [
        "target = 'Subscribe'\n",
        "features = train.columns.drop([target])\n",
        "\n",
        "X_train = train[features]\n",
        "y_train = train[target]\n",
        "\n",
        "X_test = test[features]\n",
        "y_test = test[target]"
      ],
      "metadata": {
        "id": "o8Q6BJ5q7fAz"
      },
      "execution_count": 18,
      "outputs": []
    },
    {
      "cell_type": "code",
      "source": [
        "pipe = make_pipeline(\n",
        "    TargetEncoder(min_samples_leaf=1, smoothing=1), \n",
        "    RandomForestRegressor(max_depth = 10, n_jobs=-1, random_state=42)\n",
        ")\n",
        "\n",
        "pipe.fit(X_train, y_train)\n",
        "print('검증 정확도: ', pipe.score(X_test, y_test))"
      ],
      "metadata": {
        "id": "YaZnijHk8EWs",
        "colab": {
          "base_uri": "https://localhost:8080/"
        },
        "outputId": "4ea569de-fb06-4746-970d-185a8d5fbdae"
      },
      "execution_count": 19,
      "outputs": [
        {
          "output_type": "stream",
          "name": "stdout",
          "text": [
            "검증 정확도:  1.0\n"
          ]
        }
      ]
    },
    {
      "cell_type": "code",
      "source": [
        "pipe = make_pipeline(\n",
        "    OrdinalEncoder(), \n",
        "    DecisionTreeClassifier(max_depth=5, random_state=2)\n",
        ")\n",
        "\n",
        "pipe.fit(X_train, y_train)\n",
        "print('검증 정확도: ', pipe.score(X_test, y_test))"
      ],
      "metadata": {
        "id": "_09GOW355mcK",
        "colab": {
          "base_uri": "https://localhost:8080/"
        },
        "outputId": "a0af3f90-abb9-49b1-893e-1d7c3eab93b5"
      },
      "execution_count": 20,
      "outputs": [
        {
          "output_type": "stream",
          "name": "stdout",
          "text": [
            "검증 정확도:  1.0\n"
          ]
        }
      ]
    },
    {
      "cell_type": "code",
      "source": [
        "import graphviz\n",
        "from sklearn.tree import export_graphviz\n",
        "\n",
        "tree = pipe.named_steps['decisiontreeclassifier']\n",
        "\n",
        "dot_data = export_graphviz(\n",
        "    tree,\n",
        "    feature_names=X_train.columns, \n",
        "    class_names=y_train.unique().astype(str), \n",
        "    filled=True, \n",
        "    proportion=True\n",
        ")\n",
        "\n",
        "graphviz.Source(dot_data)"
      ],
      "metadata": {
        "id": "QmYneRfs-uTK",
        "colab": {
          "base_uri": "https://localhost:8080/",
          "height": 280
        },
        "outputId": "2596bc77-26f4-40b8-8bbe-e05e0c4afb61"
      },
      "execution_count": 21,
      "outputs": [
        {
          "output_type": "execute_result",
          "data": {
            "text/plain": [
              "<graphviz.files.Source at 0x7f4de09d71d0>"
            ],
            "image/svg+xml": "<?xml version=\"1.0\" encoding=\"UTF-8\" standalone=\"no\"?>\n<!DOCTYPE svg PUBLIC \"-//W3C//DTD SVG 1.1//EN\"\n \"http://www.w3.org/Graphics/SVG/1.1/DTD/svg11.dtd\">\n<!-- Generated by graphviz version 2.40.1 (20161225.0304)\n -->\n<!-- Title: Tree Pages: 1 -->\n<svg width=\"282pt\" height=\"195pt\"\n viewBox=\"0.00 0.00 282.00 195.00\" xmlns=\"http://www.w3.org/2000/svg\" xmlns:xlink=\"http://www.w3.org/1999/xlink\">\n<g id=\"graph0\" class=\"graph\" transform=\"scale(1 1) rotate(0) translate(4 191)\">\n<title>Tree</title>\n<polygon fill=\"#ffffff\" stroke=\"transparent\" points=\"-4,4 -4,-191 278,-191 278,4 -4,4\"/>\n<!-- 0 -->\n<g id=\"node1\" class=\"node\">\n<title>0</title>\n<polygon fill=\"#67b4eb\" stroke=\"#000000\" points=\"209.5,-187 64.5,-187 64.5,-104 209.5,-104 209.5,-187\"/>\n<text text-anchor=\"middle\" x=\"137\" y=\"-171.8\" font-family=\"Helvetica,sans-Serif\" font-size=\"14.00\" fill=\"#000000\">Charcount &lt;= 956.5</text>\n<text text-anchor=\"middle\" x=\"137\" y=\"-156.8\" font-family=\"Helvetica,sans-Serif\" font-size=\"14.00\" fill=\"#000000\">gini = 0.307</text>\n<text text-anchor=\"middle\" x=\"137\" y=\"-141.8\" font-family=\"Helvetica,sans-Serif\" font-size=\"14.00\" fill=\"#000000\">samples = 100.0%</text>\n<text text-anchor=\"middle\" x=\"137\" y=\"-126.8\" font-family=\"Helvetica,sans-Serif\" font-size=\"14.00\" fill=\"#000000\">value = [0.19, 0.81]</text>\n<text text-anchor=\"middle\" x=\"137\" y=\"-111.8\" font-family=\"Helvetica,sans-Serif\" font-size=\"14.00\" fill=\"#000000\">class = False</text>\n</g>\n<!-- 1 -->\n<g id=\"node2\" class=\"node\">\n<title>1</title>\n<polygon fill=\"#e58139\" stroke=\"#000000\" points=\"128,-68 0,-68 0,0 128,0 128,-68\"/>\n<text text-anchor=\"middle\" x=\"64\" y=\"-52.8\" font-family=\"Helvetica,sans-Serif\" font-size=\"14.00\" fill=\"#000000\">gini = 0.0</text>\n<text text-anchor=\"middle\" x=\"64\" y=\"-37.8\" font-family=\"Helvetica,sans-Serif\" font-size=\"14.00\" fill=\"#000000\">samples = 19.0%</text>\n<text text-anchor=\"middle\" x=\"64\" y=\"-22.8\" font-family=\"Helvetica,sans-Serif\" font-size=\"14.00\" fill=\"#000000\">value = [1.0, 0.0]</text>\n<text text-anchor=\"middle\" x=\"64\" y=\"-7.8\" font-family=\"Helvetica,sans-Serif\" font-size=\"14.00\" fill=\"#000000\">class = True</text>\n</g>\n<!-- 0&#45;&gt;1 -->\n<g id=\"edge1\" class=\"edge\">\n<title>0&#45;&gt;1</title>\n<path fill=\"none\" stroke=\"#000000\" d=\"M109.8175,-103.9815C103.9808,-95.0666 97.8034,-85.6313 91.9386,-76.6734\"/>\n<polygon fill=\"#000000\" stroke=\"#000000\" points=\"94.8386,-74.7129 86.4327,-68.2637 88.9821,-78.5472 94.8386,-74.7129\"/>\n<text text-anchor=\"middle\" x=\"81.3259\" y=\"-89.0365\" font-family=\"Helvetica,sans-Serif\" font-size=\"14.00\" fill=\"#000000\">True</text>\n</g>\n<!-- 2 -->\n<g id=\"node3\" class=\"node\">\n<title>2</title>\n<polygon fill=\"#399de5\" stroke=\"#000000\" points=\"274,-68 146,-68 146,0 274,0 274,-68\"/>\n<text text-anchor=\"middle\" x=\"210\" y=\"-52.8\" font-family=\"Helvetica,sans-Serif\" font-size=\"14.00\" fill=\"#000000\">gini = 0.0</text>\n<text text-anchor=\"middle\" x=\"210\" y=\"-37.8\" font-family=\"Helvetica,sans-Serif\" font-size=\"14.00\" fill=\"#000000\">samples = 81.0%</text>\n<text text-anchor=\"middle\" x=\"210\" y=\"-22.8\" font-family=\"Helvetica,sans-Serif\" font-size=\"14.00\" fill=\"#000000\">value = [0.0, 1.0]</text>\n<text text-anchor=\"middle\" x=\"210\" y=\"-7.8\" font-family=\"Helvetica,sans-Serif\" font-size=\"14.00\" fill=\"#000000\">class = False</text>\n</g>\n<!-- 0&#45;&gt;2 -->\n<g id=\"edge2\" class=\"edge\">\n<title>0&#45;&gt;2</title>\n<path fill=\"none\" stroke=\"#000000\" d=\"M164.1825,-103.9815C170.0192,-95.0666 176.1966,-85.6313 182.0614,-76.6734\"/>\n<polygon fill=\"#000000\" stroke=\"#000000\" points=\"185.0179,-78.5472 187.5673,-68.2637 179.1614,-74.7129 185.0179,-78.5472\"/>\n<text text-anchor=\"middle\" x=\"192.6741\" y=\"-89.0365\" font-family=\"Helvetica,sans-Serif\" font-size=\"14.00\" fill=\"#000000\">False</text>\n</g>\n</g>\n</svg>\n"
          },
          "metadata": {},
          "execution_count": 21
        }
      ]
    },
    {
      "cell_type": "code",
      "source": [
        "features = train.columns.drop([target, 'Charcount'])\n",
        "X_train = train[features]\n",
        "y_train = train[target]\n",
        "\n",
        "X_test = test[features]\n",
        "y_test = test[target]"
      ],
      "metadata": {
        "id": "GvcN6-6A_VBM"
      },
      "execution_count": 22,
      "outputs": []
    },
    {
      "cell_type": "code",
      "source": [
        "pipe = make_pipeline(\n",
        "    OrdinalEncoder(), \n",
        "    DecisionTreeClassifier(max_depth=5, random_state=2)\n",
        ")\n",
        "\n",
        "pipe.fit(X_train, y_train)\n",
        "print('검증 정확도: ', pipe.score(X_test, y_test))"
      ],
      "metadata": {
        "colab": {
          "base_uri": "https://localhost:8080/"
        },
        "id": "3QQH978TgjGw",
        "outputId": "b33b2fec-817d-40c9-ed6e-318390d33656"
      },
      "execution_count": 23,
      "outputs": [
        {
          "output_type": "stream",
          "name": "stdout",
          "text": [
            "검증 정확도:  0.8837328770287476\n"
          ]
        }
      ]
    },
    {
      "cell_type": "code",
      "source": [
        "from sklearn.metrics import plot_confusion_matrix\n",
        "import matplotlib.pyplot as plt\n",
        "\n",
        "fig, ax = plt.subplots()\n",
        "pcm = plot_confusion_matrix(pipe, X_test, y_test,\n",
        "                            cmap=plt.cm.Blues,\n",
        "                            ax=ax);\n",
        "plt.title(f'Confusion matrix, n = {len(y_test)}', fontsize=15)"
      ],
      "metadata": {
        "id": "RtIlZZdBCOrG",
        "colab": {
          "base_uri": "https://localhost:8080/",
          "height": 315
        },
        "outputId": "df1391bf-af5f-4581-ba20-6a71bb33e26d"
      },
      "execution_count": 24,
      "outputs": [
        {
          "output_type": "execute_result",
          "data": {
            "text/plain": [
              "Text(0.5, 1.0, 'Confusion matrix, n = 2164636')"
            ]
          },
          "metadata": {},
          "execution_count": 24
        },
        {
          "output_type": "display_data",
          "data": {
            "text/plain": [
              "<Figure size 432x288 with 2 Axes>"
            ],
            "image/png": "[encoded data removed]"
          },
          "metadata": {
            "needs_background": "light"
          }
        }
      ]
    },
    {
      "cell_type": "code",
      "source": [
        "y_pred = pipe.predict(X_test)\n",
        "print(classification_report(y_test, y_pred))"
      ],
      "metadata": {
        "id": "HguCTAoLCklL",
        "colab": {
          "base_uri": "https://localhost:8080/"
        },
        "outputId": "019643c1-c760-47bf-a7f7-80f5370a6f35"
      },
      "execution_count": 25,
      "outputs": [
        {
          "output_type": "stream",
          "name": "stdout",
          "text": [
            "              precision    recall  f1-score   support\n",
            "\n",
            "       False       0.76      0.56      0.65    411977\n",
            "        True       0.90      0.96      0.93   1752659\n",
            "\n",
            "    accuracy                           0.88   2164636\n",
            "   macro avg       0.83      0.76      0.79   2164636\n",
            "weighted avg       0.88      0.88      0.88   2164636\n",
            "\n"
          ]
        }
      ]
    },
    {
      "cell_type": "code",
      "source": [
        "from sklearn.metrics import roc_auc_score\n",
        "\n",
        "y_pred_proba = pipe.predict_proba(X_test)[:, -1]\n",
        "print('AUC score: ', roc_auc_score(y_test, y_pred_proba))"
      ],
      "metadata": {
        "id": "40n0cuROC43M",
        "colab": {
          "base_uri": "https://localhost:8080/"
        },
        "outputId": "f7db2dec-9fef-4c37-91f5-113914d88686"
      },
      "execution_count": 26,
      "outputs": [
        {
          "output_type": "stream",
          "name": "stdout",
          "text": [
            "AUC score:  0.8538701424013955\n"
          ]
        }
      ]
    },
    {
      "cell_type": "code",
      "source": [
        "from sklearn.metrics import roc_curve\n",
        "import matplotlib.pyplot as plt\n",
        "\n",
        "fpr, tpr, thresholds = roc_curve(y_test, y_pred_proba)\n",
        "\n",
        "plt.scatter(fpr, tpr, color='blue')\n",
        "plt.plot(fpr, tpr, color='green')\n",
        "plt.title('ROC curve')\n",
        "plt.xlabel('FPR')\n",
        "plt.ylabel('TPR')"
      ],
      "metadata": {
        "id": "RyIQLP7nC9CA",
        "colab": {
          "base_uri": "https://localhost:8080/",
          "height": 313
        },
        "outputId": "9e17ba56-a9a6-4a34-ce11-faf53959ce05"
      },
      "execution_count": 27,
      "outputs": [
        {
          "output_type": "execute_result",
          "data": {
            "text/plain": [
              "Text(0, 0.5, 'TPR')"
            ]
          },
          "metadata": {},
          "execution_count": 27
        },
        {
          "output_type": "display_data",
          "data": {
            "text/plain": [
              "<Figure size 432x288 with 1 Axes>"
            ],
            "image/png": "[encoded data removed]"
          },
          "metadata": {
            "needs_background": "light"
          }
        }
      ]
    },
    {
      "cell_type": "code",
      "source": [
        "#Char\tLevel Race\tCharclass\tZone\tGuild\tMonth\tDay\tHour\tSubscribe\n",
        "feature = 'Level'\n",
        "\n",
        "isolated = pdp_isolate(\n",
        "    model=pipe, \n",
        "    dataset=X_test, \n",
        "    model_features=X_test.columns, \n",
        "    feature=feature,\n",
        "    num_grid_points=100, # grid 포인트를 더 줄 수 있습니다. default = 10\n",
        ")"
      ],
      "metadata": {
        "id": "XndsWPnbzbFR"
      },
      "execution_count": 28,
      "outputs": []
    },
    {
      "cell_type": "code",
      "source": [
        "pdp_plot(isolated, feature_name=feature);"
      ],
      "metadata": {
        "colab": {
          "base_uri": "https://localhost:8080/",
          "height": 623
        },
        "id": "3X75Ugh15d-c",
        "outputId": "6e9035e3-5862-4086-887e-9fb470689dfa"
      },
      "execution_count": 29,
      "outputs": [
        {
          "output_type": "stream",
          "name": "stderr",
          "text": [
            "findfont: Font family ['Arial'] not found. Falling back to DejaVu Sans.\n",
            "findfont: Font family ['Arial'] not found. Falling back to DejaVu Sans.\n",
            "findfont: Font family ['Arial'] not found. Falling back to DejaVu Sans.\n",
            "findfont: Font family ['Arial'] not found. Falling back to DejaVu Sans.\n"
          ]
        },
        {
          "output_type": "display_data",
          "data": {
            "text/plain": [
              "<Figure size 1080x684 with 2 Axes>"
            ],
            "image/png": "[encoded data removed]"
          },
          "metadata": {
            "needs_background": "light"
          }
        }
      ]
    },
    {
      "cell_type": "code",
      "source": [
        "pdp_plot(isolated\n",
        "         , feature_name=feature\n",
        "         , plot_lines=True\n",
        "         , frac_to_plot=0.01 \n",
        "         , plot_pts_dist=True) \n",
        "\n",
        "plt.xlim(20000,150000);"
      ],
      "metadata": {
        "colab": {
          "base_uri": "https://localhost:8080/",
          "height": 534
        },
        "id": "_9MtYUk05eFR",
        "outputId": "27d4490a-a26b-428b-b0d0-577120149ec4"
      },
      "execution_count": 30,
      "outputs": [
        {
          "output_type": "display_data",
          "data": {
            "text/plain": [
              "<Figure size 1080x684 with 3 Axes>"
            ],
            "image/png": "[encoded data removed]"
          },
          "metadata": {
            "needs_background": "light"
          }
        }
      ]
    }
  ]
}